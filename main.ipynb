{
 "cells": [
  {
   "cell_type": "code",
   "execution_count": 1,
   "metadata": {},
   "outputs": [],
   "source": [
    "# Imports \n",
    "import tensorflow as tf \n",
    "from tensorflow import keras \n",
    "import numpy as np \n",
    "from matplotlib import pyplot as plt \n",
    "import pandas as pd\n",
    "from tensorflow.keras.preprocessing.text import Tokenizer\n",
    "from tensorflow.keras.preprocessing.sequence import pad_sequences"
   ]
  },
  {
   "cell_type": "code",
   "execution_count": 2,
   "metadata": {},
   "outputs": [],
   "source": [
    "# Read in the data \n",
    "df = pd.read_csv('data.csv')"
   ]
  },
  {
   "cell_type": "code",
   "execution_count": 3,
   "metadata": {},
   "outputs": [
    {
     "data": {
      "text/html": [
       "<div>\n",
       "<style scoped>\n",
       "    .dataframe tbody tr th:only-of-type {\n",
       "        vertical-align: middle;\n",
       "    }\n",
       "\n",
       "    .dataframe tbody tr th {\n",
       "        vertical-align: top;\n",
       "    }\n",
       "\n",
       "    .dataframe thead th {\n",
       "        text-align: right;\n",
       "    }\n",
       "</style>\n",
       "<table border=\"1\" class=\"dataframe\">\n",
       "  <thead>\n",
       "    <tr style=\"text-align: right;\">\n",
       "      <th></th>\n",
       "      <th>Sentence</th>\n",
       "      <th>Sentiment</th>\n",
       "    </tr>\n",
       "  </thead>\n",
       "  <tbody>\n",
       "    <tr>\n",
       "      <th>0</th>\n",
       "      <td>The GeoSolutions technology will leverage Bene...</td>\n",
       "      <td>positive</td>\n",
       "    </tr>\n",
       "    <tr>\n",
       "      <th>1</th>\n",
       "      <td>$ESI on lows, down $1.50 to $2.50 BK a real po...</td>\n",
       "      <td>negative</td>\n",
       "    </tr>\n",
       "    <tr>\n",
       "      <th>2</th>\n",
       "      <td>For the last quarter of 2010 , Componenta 's n...</td>\n",
       "      <td>positive</td>\n",
       "    </tr>\n",
       "    <tr>\n",
       "      <th>3</th>\n",
       "      <td>According to the Finnish-Russian Chamber of Co...</td>\n",
       "      <td>neutral</td>\n",
       "    </tr>\n",
       "    <tr>\n",
       "      <th>4</th>\n",
       "      <td>The Swedish buyout firm has sold its remaining...</td>\n",
       "      <td>neutral</td>\n",
       "    </tr>\n",
       "  </tbody>\n",
       "</table>\n",
       "</div>"
      ],
      "text/plain": [
       "                                            Sentence Sentiment\n",
       "0  The GeoSolutions technology will leverage Bene...  positive\n",
       "1  $ESI on lows, down $1.50 to $2.50 BK a real po...  negative\n",
       "2  For the last quarter of 2010 , Componenta 's n...  positive\n",
       "3  According to the Finnish-Russian Chamber of Co...   neutral\n",
       "4  The Swedish buyout firm has sold its remaining...   neutral"
      ]
     },
     "execution_count": 3,
     "metadata": {},
     "output_type": "execute_result"
    }
   ],
   "source": [
    "df.head()"
   ]
  },
  {
   "cell_type": "code",
   "execution_count": 4,
   "metadata": {},
   "outputs": [],
   "source": [
    "# Getting the fields of the data \n",
    "sentences = df['Sentence'].to_list()\n",
    "sentiment = df['Sentiment'].to_list()"
   ]
  },
  {
   "cell_type": "code",
   "execution_count": 5,
   "metadata": {},
   "outputs": [],
   "source": [
    "# Converting the sentences and sentiments into a numpy array\n",
    "sentences = np.array(sentences)\n",
    "sentiment = np.array(sentiment)"
   ]
  },
  {
   "cell_type": "code",
   "execution_count": 6,
   "metadata": {},
   "outputs": [],
   "source": [
    "# Creating the training and the testing data \n",
    "train_size = len(sentences) - 100\n",
    "\n",
    "train_sentences = sentences[0:train_size]\n",
    "test_sentences = sentences[train_size:]\n",
    "\n",
    "train_sentiment = sentiment[0:train_size]\n",
    "test_sentiment = sentiment[train_size:]"
   ]
  },
  {
   "cell_type": "code",
   "execution_count": 7,
   "metadata": {},
   "outputs": [],
   "source": [
    "# Replacing Positive with 0, Negative with 1 and Neutral with 2\n",
    "for i in range(len(train_sentiment)):\n",
    "    if str(sentiment[i]) == \"positive\":\n",
    "        train_sentiment[i] = float(0)\n",
    "        \n",
    "    elif str(sentiment[i]) == \"negative\":\n",
    "        train_sentiment[i] = float(1)\n",
    "        \n",
    "    elif str(sentiment[i]) == \"neutral\":\n",
    "        train_sentiment[i] = float(2)"
   ]
  },
  {
   "cell_type": "code",
   "execution_count": 8,
   "metadata": {},
   "outputs": [],
   "source": [
    "from sklearn.preprocessing import LabelEncoder\n",
    "\n",
    "lb = LabelEncoder()\n",
    "train_sentiment = lb.fit_transform(train_sentiment)"
   ]
  },
  {
   "cell_type": "code",
   "execution_count": 9,
   "metadata": {},
   "outputs": [],
   "source": [
    "# Tokenizing the training text \n",
    "vocab_size = 10000\n",
    "oov_tok = \"<OOV>\"\n",
    "max_length = 100\n",
    "trunc_type='post'\n",
    "padding_type='post'\n",
    "\n",
    "tokenizer = Tokenizer(num_words=vocab_size, oov_token=oov_tok)\n",
    "tokenizer.fit_on_texts(train_sentences)\n",
    "\n",
    "word_index = tokenizer.word_index\n",
    "\n",
    "training_sequences = tokenizer.texts_to_sequences(train_sentences)\n",
    "training_padded = pad_sequences(training_sequences, maxlen=max_length, padding=padding_type, truncating=trunc_type)\n",
    "\n",
    "testing_sequences = tokenizer.texts_to_sequences(test_sentences)\n",
    "testing_padded = pad_sequences(testing_sequences, maxlen=max_length, padding=padding_type, truncating=trunc_type)"
   ]
  },
  {
   "cell_type": "code",
   "execution_count": 13,
   "metadata": {},
   "outputs": [],
   "source": [
    "embedding_dim = 16\n",
    "\n",
    "\n",
    "model = tf.keras.Sequential([\n",
    "    tf.keras.layers.Embedding(vocab_size, embedding_dim, input_length=max_length),\n",
    "    tf.keras.layers.GlobalAveragePooling1D(),\n",
    "    tf.keras.layers.Dense(100, activation='relu'),\n",
    "    tf.keras.layers.Dense(24, activation='relu'),\n",
    "    tf.keras.layers.Dense(3, activation='sigmoid')\n",
    "])\n",
    "model.compile(loss='sparse_categorical_crossentropy',optimizer='adam',metrics=['accuracy'])"
   ]
  },
  {
   "cell_type": "code",
   "execution_count": 14,
   "metadata": {},
   "outputs": [
    {
     "name": "stdout",
     "output_type": "stream",
     "text": [
      "Epoch 1/30\n",
      "180/180 [==============================] - 1s 2ms/step - loss: 1.0291 - accuracy: 0.4840\n",
      "Epoch 2/30\n",
      "180/180 [==============================] - 0s 2ms/step - loss: 0.9697 - accuracy: 0.5337\n",
      "Epoch 3/30\n",
      "180/180 [==============================] - 0s 2ms/step - loss: 0.9110 - accuracy: 0.5471\n",
      "Epoch 4/30\n",
      "180/180 [==============================] - 0s 2ms/step - loss: 0.8002 - accuracy: 0.6426\n",
      "Epoch 5/30\n",
      "180/180 [==============================] - 0s 2ms/step - loss: 0.7196 - accuracy: 0.6816\n",
      "Epoch 6/30\n",
      "180/180 [==============================] - 0s 2ms/step - loss: 0.6295 - accuracy: 0.7353\n",
      "Epoch 7/30\n",
      "180/180 [==============================] - 0s 2ms/step - loss: 0.5893 - accuracy: 0.7530\n",
      "Epoch 8/30\n",
      "180/180 [==============================] - 0s 2ms/step - loss: 0.5082 - accuracy: 0.7891\n",
      "Epoch 9/30\n",
      "180/180 [==============================] - 0s 2ms/step - loss: 0.4708 - accuracy: 0.8062\n",
      "Epoch 10/30\n",
      "180/180 [==============================] - 0s 2ms/step - loss: 0.4199 - accuracy: 0.8228\n",
      "Epoch 11/30\n",
      "180/180 [==============================] - 0s 2ms/step - loss: 0.3742 - accuracy: 0.8395\n",
      "Epoch 12/30\n",
      "180/180 [==============================] - 0s 2ms/step - loss: 0.3379 - accuracy: 0.8533\n",
      "Epoch 13/30\n",
      "180/180 [==============================] - 0s 2ms/step - loss: 0.3002 - accuracy: 0.8628\n",
      "Epoch 14/30\n",
      "180/180 [==============================] - 0s 2ms/step - loss: 0.2651 - accuracy: 0.8791\n",
      "Epoch 15/30\n",
      "180/180 [==============================] - 0s 2ms/step - loss: 0.2461 - accuracy: 0.8824\n",
      "Epoch 16/30\n",
      "180/180 [==============================] - 0s 2ms/step - loss: 0.2209 - accuracy: 0.8953\n",
      "Epoch 17/30\n",
      "180/180 [==============================] - 0s 2ms/step - loss: 0.2164 - accuracy: 0.8895\n",
      "Epoch 18/30\n",
      "180/180 [==============================] - 0s 2ms/step - loss: 0.1978 - accuracy: 0.9038\n",
      "Epoch 19/30\n",
      "180/180 [==============================] - 0s 2ms/step - loss: 0.1885 - accuracy: 0.9063\n",
      "Epoch 20/30\n",
      "180/180 [==============================] - 0s 2ms/step - loss: 0.1745 - accuracy: 0.8999\n",
      "Epoch 21/30\n",
      "180/180 [==============================] - 0s 2ms/step - loss: 0.1678 - accuracy: 0.9029\n",
      "Epoch 22/30\n",
      "180/180 [==============================] - 0s 2ms/step - loss: 0.1711 - accuracy: 0.8919\n",
      "Epoch 23/30\n",
      "180/180 [==============================] - 0s 2ms/step - loss: 0.1572 - accuracy: 0.9111\n",
      "Epoch 24/30\n",
      "180/180 [==============================] - 0s 2ms/step - loss: 0.1626 - accuracy: 0.8987\n",
      "Epoch 25/30\n",
      "180/180 [==============================] - 0s 2ms/step - loss: 0.1580 - accuracy: 0.9068\n",
      "Epoch 26/30\n",
      "180/180 [==============================] - 0s 2ms/step - loss: 0.1508 - accuracy: 0.9058\n",
      "Epoch 27/30\n",
      "180/180 [==============================] - 0s 2ms/step - loss: 0.1572 - accuracy: 0.9014\n",
      "Epoch 28/30\n",
      "180/180 [==============================] - 0s 2ms/step - loss: 0.1468 - accuracy: 0.9132\n",
      "Epoch 29/30\n",
      "180/180 [==============================] - 0s 2ms/step - loss: 0.1478 - accuracy: 0.9058\n",
      "Epoch 30/30\n",
      "180/180 [==============================] - 0s 2ms/step - loss: 0.1508 - accuracy: 0.9008\n"
     ]
    }
   ],
   "source": [
    "history = model.fit(training_padded, train_sentiment, epochs=30)"
   ]
  },
  {
   "cell_type": "code",
   "execution_count": 15,
   "metadata": {},
   "outputs": [
    {
     "data": {
      "image/png": "[encoded data removed]",
      "text/plain": [
       "<Figure size 432x288 with 1 Axes>"
      ]
     },
     "metadata": {
      "needs_background": "light"
     },
     "output_type": "display_data"
    },
    {
     "data": {
      "image/png": "[encoded data removed]",
      "text/plain": [
       "<Figure size 432x288 with 1 Axes>"
      ]
     },
     "metadata": {
      "needs_background": "light"
     },
     "output_type": "display_data"
    }
   ],
   "source": [
    "def plot_graphs(history, string):\n",
    "  plt.plot(history.history[string])\n",
    "  plt.xlabel(\"Epochs\")\n",
    "  plt.ylabel(string)\n",
    "  plt.show()\n",
    "  \n",
    "plot_graphs(history, \"accuracy\")\n",
    "plot_graphs(history, \"loss\")"
   ]
  },
  {
   "cell_type": "code",
   "execution_count": 16,
   "metadata": {},
   "outputs": [
    {
     "name": "stdout",
     "output_type": "stream",
     "text": [
      "Model: \"sequential_1\"\n",
      "_________________________________________________________________\n",
      "Layer (type)                 Output Shape              Param #   \n",
      "=================================================================\n",
      "embedding_1 (Embedding)      (None, 100, 16)           160000    \n",
      "_________________________________________________________________\n",
      "global_average_pooling1d_1 ( (None, 16)                0         \n",
      "_________________________________________________________________\n",
      "dense_3 (Dense)              (None, 100)               1700      \n",
      "_________________________________________________________________\n",
      "dense_4 (Dense)              (None, 24)                2424      \n",
      "_________________________________________________________________\n",
      "dense_5 (Dense)              (None, 3)                 75        \n",
      "=================================================================\n",
      "Total params: 164,199\n",
      "Trainable params: 164,199\n",
      "Non-trainable params: 0\n",
      "_________________________________________________________________\n",
      "INFO:tensorflow:Assets written to: financial_sentiment_analysis-model-v1.0/assets\n",
      "MODEL SAVED SUCCESSFULLY\n"
     ]
    }
   ],
   "source": [
    "# Getting the model summary \n",
    "model.summary()\n",
    "\n",
    "# Saving the model \n",
    "model.save(\"financial_sentiment_analysis-model-v1.0\")\n",
    "\n",
    "print(\"MODEL SAVED SUCCESSFULLY\")"
   ]
  },
  {
   "cell_type": "code",
   "execution_count": 17,
   "metadata": {},
   "outputs": [],
   "source": [
    "reverse_word_index = dict([(value, key) for (key, value) in word_index.items()])\n",
    "\n",
    "def decode_sentence(text):\n",
    "    return ' '.join([reverse_word_index.get(i, '?') for i in text])"
   ]
  },
  {
   "cell_type": "code",
   "execution_count": 18,
   "metadata": {},
   "outputs": [
    {
     "name": "stdout",
     "output_type": "stream",
     "text": [
      "[[0.99729085 0.32996905 0.02266571]]\n",
      "Positive\n"
     ]
    }
   ],
   "source": [
    "class_names = [\"Positive\", \"Negative\", \"Neutral\"]\n",
    "\n",
    "sentence = [test_sentences[3]]\n",
    "sequences = tokenizer.texts_to_sequences(sentence)\n",
    "padded = pad_sequences(sequences, maxlen=max_length, padding=padding_type, truncating=trunc_type)\n",
    "\n",
    "prediction = class_names[np.argmax(model.predict(padded))]\n",
    "probabilities = model.predict(padded)\n",
    "\n",
    "print(probabilities)\n",
    "print(prediction)"
   ]
  },
  {
   "cell_type": "code",
   "execution_count": null,
   "metadata": {},
   "outputs": [],
   "source": []
  }
 ],
 "metadata": {
  "kernelspec": {
   "display_name": "Python 3",
   "language": "python",
   "name": "python3"
  },
  "language_info": {
   "codemirror_mode": {
    "name": "ipython",
    "version": 3
   },
   "file_extension": ".py",
   "mimetype": "text/x-python",
   "name": "python",
   "nbconvert_exporter": "python",
   "pygments_lexer": "ipython3",
   "version": "3.8.5"
  }
 },
 "nbformat": 4,
 "nbformat_minor": 4
}
